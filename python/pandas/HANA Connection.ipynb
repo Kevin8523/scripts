{
 "cells": [
  {
   "cell_type": "code",
   "execution_count": 2,
   "metadata": {
    "collapsed": true
   },
   "outputs": [],
   "source": [
    "import pyodbc\n",
    "import pandas as pd"
   ]
  },
  {
   "cell_type": "code",
   "execution_count": null,
   "metadata": {
    "collapsed": true
   },
   "outputs": [],
   "source": [
    "hand_db_config: {\n",
    "    username: e349172\n",
    "}"
   ]
  },
  {
   "cell_type": "code",
   "execution_count": 3,
   "metadata": {
    "collapsed": false
   },
   "outputs": [
    {
     "ename": "Error",
     "evalue": "('HY000', '[HY000] [SAP AG][LIBODBCHDB DLL][HDBODBC] General error;10 authentication failed (10) (SQLDriverConnect); [HY000] [SAP AG][LIBODBCHDB DLL][HDBODBC] General error;10 authentication failed (10)')",
     "output_type": "error",
     "traceback": [
      "\u001b[0;31m---------------------------------------------------------------------------\u001b[0m",
      "\u001b[0;31mError\u001b[0m                                     Traceback (most recent call last)",
      "\u001b[0;32m<ipython-input-3-9c8fa02a8243>\u001b[0m in \u001b[0;36m<module>\u001b[0;34m()\u001b[0m\n\u001b[0;32m----> 1\u001b[0;31m \u001b[0mconnect\u001b[0m \u001b[1;33m=\u001b[0m  \u001b[0mpyodbc\u001b[0m\u001b[1;33m.\u001b[0m\u001b[0mconnect\u001b[0m\u001b[1;33m(\u001b[0m\u001b[0mDSN\u001b[0m\u001b[1;33m=\u001b[0m\u001b[1;34m'HANA_DI3'\u001b[0m\u001b[1;33m,\u001b[0m\u001b[0mUID\u001b[0m\u001b[1;33m=\u001b[0m\u001b[1;34m'e349172'\u001b[0m\u001b[1;33m,\u001b[0m\u001b[0mPWD\u001b[0m\u001b[1;33m=\u001b[0m\u001b[1;34m'PEZVP4eIqsXrFieT4e2m'\u001b[0m\u001b[1;33m)\u001b[0m\u001b[1;33m\u001b[0m\u001b[0m\n\u001b[0m\u001b[1;32m      2\u001b[0m \u001b[1;33m\u001b[0m\u001b[0m\n",
      "\u001b[0;31mError\u001b[0m: ('HY000', '[HY000] [SAP AG][LIBODBCHDB DLL][HDBODBC] General error;10 authentication failed (10) (SQLDriverConnect); [HY000] [SAP AG][LIBODBCHDB DLL][HDBODBC] General error;10 authentication failed (10)')"
     ]
    }
   ],
   "source": [
    "connect =  pyodbc.connect(DSN='HANA_DI3',UID='e349172',PWD='PEZVP4eIqsXrFieT4e2m') "
   ]
  },
  {
   "cell_type": "code",
   "execution_count": null,
   "metadata": {
    "collapsed": true
   },
   "outputs": [],
   "source": [
    "data = pd.read_sql_query('select * from E313645.SEM_SITE limit 10', cnxn) "
   ]
  }
 ],
 "metadata": {
  "kernelspec": {
   "display_name": "Python 3",
   "language": "python",
   "name": "python3"
  },
  "language_info": {
   "codemirror_mode": {
    "name": "ipython",
    "version": 3
   },
   "file_extension": ".py",
   "mimetype": "text/x-python",
   "name": "python",
   "nbconvert_exporter": "python",
   "pygments_lexer": "ipython3",
   "version": "3.6.0"
  }
 },
 "nbformat": 4,
 "nbformat_minor": 2
}
