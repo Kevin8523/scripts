{
 "cells": [
  {
   "cell_type": "code",
   "execution_count": 4,
   "metadata": {},
   "outputs": [
    {
     "name": "stdout",
     "output_type": "stream",
     "text": [
      "kevin8523\n",
      "//anaconda/bin/python\n",
      "3.6.5 |Anaconda custom (64-bit)| (default, Apr 26 2018, 08:42:37) \n",
      "[GCC 4.2.1 Compatible Clang 4.0.1 (tags/RELEASE_401/final)]\n"
     ]
    }
   ],
   "source": [
    "import os\n",
    "import sys\n",
    "print(os.getlogin())\n",
    "print(sys.executable)\n",
    "print(sys.version)"
   ]
  },
  {
   "cell_type": "markdown",
   "metadata": {},
   "source": [
    "## Steps:\n",
    "- Install Packages\n",
    "- Read in dataset\n",
    "- Prep Data\n",
    "- Create Function to Optimize Lineup\n",
    "- Create the function\n",
    "- Run Function to Optimize Lineup"
   ]
  },
  {
   "cell_type": "code",
   "execution_count": 8,
   "metadata": {},
   "outputs": [],
   "source": [
    "# Install Packages\n",
    "import pandas as pd\n",
    "import numpy as np\n",
    "from scipy.optimize import minimize"
   ]
  },
  {
   "cell_type": "code",
   "execution_count": 12,
   "metadata": {},
   "outputs": [],
   "source": [
    "# Working Directory\n",
    "dataset = '../dataset/fantasy_points.csv'"
   ]
  },
  {
   "cell_type": "code",
   "execution_count": 16,
   "metadata": {},
   "outputs": [
    {
     "data": {
      "text/html": [
       "<div>\n",
       "<style scoped>\n",
       "    .dataframe tbody tr th:only-of-type {\n",
       "        vertical-align: middle;\n",
       "    }\n",
       "\n",
       "    .dataframe tbody tr th {\n",
       "        vertical-align: top;\n",
       "    }\n",
       "\n",
       "    .dataframe thead th {\n",
       "        text-align: right;\n",
       "    }\n",
       "</style>\n",
       "<table border=\"1\" class=\"dataframe\">\n",
       "  <thead>\n",
       "    <tr style=\"text-align: right;\">\n",
       "      <th></th>\n",
       "      <th>Id</th>\n",
       "      <th>Position</th>\n",
       "      <th>First Name</th>\n",
       "      <th>Nickname</th>\n",
       "      <th>Last Name</th>\n",
       "      <th>FPPG</th>\n",
       "      <th>Played</th>\n",
       "      <th>Salary</th>\n",
       "      <th>Game</th>\n",
       "      <th>Team</th>\n",
       "      <th>Opponent</th>\n",
       "      <th>Injury Indicator</th>\n",
       "      <th>Injury Details</th>\n",
       "    </tr>\n",
       "  </thead>\n",
       "  <tbody>\n",
       "    <tr>\n",
       "      <th>0</th>\n",
       "      <td>22644-9646</td>\n",
       "      <td>SF</td>\n",
       "      <td>Kevin</td>\n",
       "      <td>Kevin Durant</td>\n",
       "      <td>Durant</td>\n",
       "      <td>48.520689</td>\n",
       "      <td>29</td>\n",
       "      <td>10900</td>\n",
       "      <td>UTA@GS</td>\n",
       "      <td>GS</td>\n",
       "      <td>UTA</td>\n",
       "      <td>0</td>\n",
       "      <td>0</td>\n",
       "    </tr>\n",
       "    <tr>\n",
       "      <th>1</th>\n",
       "      <td>22644-9642</td>\n",
       "      <td>PG</td>\n",
       "      <td>Russell</td>\n",
       "      <td>Russell Westbrook</td>\n",
       "      <td>Westbrook</td>\n",
       "      <td>52.302943</td>\n",
       "      <td>34</td>\n",
       "      <td>11200</td>\n",
       "      <td>TOR@OKC</td>\n",
       "      <td>OKC</td>\n",
       "      <td>TOR</td>\n",
       "      <td>0</td>\n",
       "      <td>0</td>\n",
       "    </tr>\n",
       "    <tr>\n",
       "      <th>2</th>\n",
       "      <td>22644-9488</td>\n",
       "      <td>SF</td>\n",
       "      <td>LeBron</td>\n",
       "      <td>LeBron James</td>\n",
       "      <td>James</td>\n",
       "      <td>54.761765</td>\n",
       "      <td>34</td>\n",
       "      <td>11700</td>\n",
       "      <td>CLE@SAC</td>\n",
       "      <td>CLE</td>\n",
       "      <td>SAC</td>\n",
       "      <td>0</td>\n",
       "      <td>0</td>\n",
       "    </tr>\n",
       "    <tr>\n",
       "      <th>3</th>\n",
       "      <td>22644-12362</td>\n",
       "      <td>C</td>\n",
       "      <td>DeMarcus</td>\n",
       "      <td>DeMarcus Cousins</td>\n",
       "      <td>Cousins</td>\n",
       "      <td>51.972727</td>\n",
       "      <td>33</td>\n",
       "      <td>11500</td>\n",
       "      <td>BKN@NO</td>\n",
       "      <td>NO</td>\n",
       "      <td>BKN</td>\n",
       "      <td>0</td>\n",
       "      <td>0</td>\n",
       "    </tr>\n",
       "    <tr>\n",
       "      <th>4</th>\n",
       "      <td>22644-15755</td>\n",
       "      <td>PF</td>\n",
       "      <td>Anthony</td>\n",
       "      <td>Anthony Davis</td>\n",
       "      <td>Davis</td>\n",
       "      <td>48.300001</td>\n",
       "      <td>28</td>\n",
       "      <td>10800</td>\n",
       "      <td>BKN@NO</td>\n",
       "      <td>NO</td>\n",
       "      <td>BKN</td>\n",
       "      <td>0</td>\n",
       "      <td>0</td>\n",
       "    </tr>\n",
       "  </tbody>\n",
       "</table>\n",
       "</div>"
      ],
      "text/plain": [
       "            Id Position First Name           Nickname  Last Name       FPPG  \\\n",
       "0   22644-9646       SF      Kevin       Kevin Durant     Durant  48.520689   \n",
       "1   22644-9642       PG    Russell  Russell Westbrook  Westbrook  52.302943   \n",
       "2   22644-9488       SF     LeBron       LeBron James      James  54.761765   \n",
       "3  22644-12362        C   DeMarcus   DeMarcus Cousins    Cousins  51.972727   \n",
       "4  22644-15755       PF    Anthony      Anthony Davis      Davis  48.300001   \n",
       "\n",
       "   Played  Salary     Game Team Opponent Injury Indicator Injury Details  \n",
       "0      29   10900   UTA@GS   GS      UTA                0              0  \n",
       "1      34   11200  TOR@OKC  OKC      TOR                0              0  \n",
       "2      34   11700  CLE@SAC  CLE      SAC                0              0  \n",
       "3      33   11500   BKN@NO   NO      BKN                0              0  \n",
       "4      28   10800   BKN@NO   NO      BKN                0              0  "
      ]
     },
     "execution_count": 16,
     "metadata": {},
     "output_type": "execute_result"
    }
   ],
   "source": [
    "# Read in dataset\n",
    "train = pd.read_csv(dataset)\n",
    "train.head()"
   ]
  },
  {
   "cell_type": "code",
   "execution_count": null,
   "metadata": {},
   "outputs": [],
   "source": [
    "# Objective Function:\n",
    "## Returns top expected total points\n",
    "def objective(x):\n"
   ]
  },
  {
   "cell_type": "code",
   "execution_count": null,
   "metadata": {},
   "outputs": [],
   "source": [
    "# Constraints: \n",
    "## Salary Cap, Positions/Rules"
   ]
  },
  {
   "cell_type": "code",
   "execution_count": null,
   "metadata": {},
   "outputs": [],
   "source": [
    "# Function Arguments: \n",
    "## Player list, Salary Cap, Positions/Rules, Set Players, Remove Teams\n"
   ]
  }
 ],
 "metadata": {
  "kernelspec": {
   "display_name": "Python [default]",
   "language": "python",
   "name": "python3"
  },
  "language_info": {
   "codemirror_mode": {
    "name": "ipython",
    "version": 3
   },
   "file_extension": ".py",
   "mimetype": "text/x-python",
   "name": "python",
   "nbconvert_exporter": "python",
   "pygments_lexer": "ipython3",
   "version": "3.6.5"
  }
 },
 "nbformat": 4,
 "nbformat_minor": 2
}
